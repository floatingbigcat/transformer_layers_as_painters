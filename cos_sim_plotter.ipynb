{
 "cells": [
  {
   "cell_type": "markdown",
   "metadata": {},
   "source": [
    "Notebook to give a example to plot the cos sim figure of hidden states of llama3"
   ]
  },
  {
   "cell_type": "code",
   "execution_count": 16,
   "metadata": {},
   "outputs": [
    {
     "name": "stdout",
     "output_type": "stream",
     "text": [
      "2024-07-25:17:22:06,510 INFO     [__main__.py:272] Verbosity set to INFO\n",
      "2024-07-25:17:22:10,120 WARNING  [__main__.py:287]  --limit SHOULD ONLY BE USED FOR TESTING.REAL METRICS SHOULD NOT BE COMPUTED USING LIMIT.\n",
      "2024-07-25:17:22:10,121 INFO     [__main__.py:356] Selected Tasks: ['lambada_openai']\n",
      "2024-07-25:17:22:10,123 INFO     [evaluator.py:132] Setting random seed to 0 | Setting numpy seed to 1234 | Setting torch manual seed to 1234\n",
      "2024-07-25:17:22:10,123 INFO     [evaluator.py:178] Initializing hf model, with arguments: {'pretrained': 'meta-llama/Llama-2-7b-hf'}\n",
      "2024-07-25:17:22:10,125 INFO     [huggingface.py:163] Using device 'cuda'\n",
      "/home/qisun/code/transformer-as-painter/painter_env/lib/python3.10/site-packages/huggingface_hub/file_download.py:1150: FutureWarning: `resume_download` is deprecated and will be removed in version 1.0.0. Downloads always resume when possible. If you want to force a new download, use `force_download=True`.\n",
      "  warnings.warn(\n",
      "Loading checkpoint shards: 100%|██████████████████| 2/2 [00:03<00:00,  1.91s/it]\n",
      "2024-07-25:17:22:18,408 WARNING  [task.py:322] [Task: lambada_openai] has_training_docs and has_validation_docs are False, using test_docs as fewshot_docs but this is not recommended.\n",
      "2024-07-25:17:22:18,409 WARNING  [task.py:322] [Task: lambada_openai] has_training_docs and has_validation_docs are False, using test_docs as fewshot_docs but this is not recommended.\n",
      "2024-07-25:17:22:18,529 INFO     [task.py:395] Building contexts for lambada_openai on rank 0...\n",
      "100%|████████████████████████████████████████| 100/100 [00:00<00:00, 520.56it/s]\n",
      "2024-07-25:17:22:18,724 INFO     [evaluator.py:390] Running loglikelihood requests\n",
      "Running loglikelihood requests: 100%|█████████| 100/100 [00:04<00:00, 22.36it/s]\n",
      "bootstrapping for stddev: perplexity\n",
      "100%|███████████████████████████████████████| 100/100 [00:00<00:00, 1835.14it/s]\n",
      "hf (pretrained=meta-llama/Llama-2-7b-hf), gen_kwargs: (None), limit: 100.0, num_fewshot: None, batch_size: 8\n",
      "|    Tasks     |Version|Filter|n-shot|  Metric  |Value |   |Stderr|\n",
      "|--------------|------:|------|-----:|----------|-----:|---|-----:|\n",
      "|lambada_openai|      1|none  |     0|perplexity|3.5408|±  |0.5334|\n",
      "|              |       |none  |     0|acc       |0.7200|±  |0.0451|\n",
      "\n"
     ]
    }
   ],
   "source": [
    "# Run the model on certain task for 100 samples and save the hidden states\n",
    "# you can easily change the model and arg to get desired visualization\n",
    "\n",
    "# Note that llama2-70b-hf need more GPUs (depend on your memory),\n",
    "# pls add parallelize=True, for 70b, eg:\n",
    "# --model_args pretrained=meta-llama/Llama-2-70b-hf,parallelize=True \\\n",
    "\n",
    "# To keep code clean, we only add hidden_state_folder_path option for\n",
    "# baseline method, you can easily modify routing_llama.py/LlamaModel/forward\n",
    "# to add save hidden states for other method(skip, etc) as well.\n",
    "\n",
    "! cd gpt\n",
    "! CUDA_VISIBLE_DEVICES=0 lm_eval --model hf \\\n",
    "    --model_args pretrained=meta-llama/Llama-2-7b-hf \\\n",
    "    --tasks lambada_openai \\\n",
    "    --batch_size 8 \\\n",
    "    --limit 100 \\\n",
    "    --method baseline \\\n",
    "    --hidden_state_folder_path ./lambada_llama2"
   ]
  },
  {
   "cell_type": "code",
   "execution_count": 17,
   "metadata": {},
   "outputs": [],
   "source": [
    "# Fetch from ./lambada_llama2\n",
    "import torch\n",
    "from pathlib import Path\n",
    "\n",
    "directory = './lambada_llama2'\n",
    "dir_path = Path(directory)\n",
    "\n",
    "layers_hidden_states = []\n",
    "pt_files = list(dir_path.glob('*.pt'))\n",
    "for fp in pt_files:\n",
    "    layers_hidden_states.append(torch.load(fp))"
   ]
  },
  {
   "cell_type": "code",
   "execution_count": 18,
   "metadata": {},
   "outputs": [],
   "source": [
    "# Compute the cos-sim\n",
    "import torch.nn.functional as F\n",
    "\n",
    "cos_sim_pool = []\n",
    "\n",
    "# Loop each batched data samples\n",
    "for tensor_list in layers_hidden_states:\n",
    "    num_layer = len(tensor_list) - 1\n",
    "    batch_size, seq_len, hidden_dim = tensor_list[0].shape\n",
    "    cos_similarities = torch.zeros(num_layer+1, num_layer+1) # count the start hidden state\n",
    "    # To compute the cos-sim, we first flattn the sequence\n",
    "    reshaped_tensors = [tensor.view(batch_size, -1) for tensor in tensor_list]\n",
    "    for i in range(num_layer + 1):\n",
    "        for j in range(num_layer + 1):\n",
    "            cos_sim = F.cosine_similarity(reshaped_tensors[i], reshaped_tensors[j])\n",
    "            cos_similarities[i,j] = cos_sim.mean(0) # avg along batch dim\n",
    "    cos_sim_pool.append(cos_similarities)\n",
    "\n",
    "# Average cos-sim over 100 samples\n",
    "final_cos_sim = torch.stack(cos_sim_pool, dim=0).mean(0)"
   ]
  },
  {
   "cell_type": "code",
   "execution_count": 21,
   "metadata": {},
   "outputs": [
    {
     "data": {
      "image/png": "[encoded data removed]",
      "text/plain": [
       "<Figure size 1000x800 with 2 Axes>"
      ]
     },
     "metadata": {},
     "output_type": "display_data"
    }
   ],
   "source": [
    "import matplotlib.pyplot as plt\n",
    "\n",
    "plt.figure(figsize=(10, 8))\n",
    "plt.imshow(final_cos_sim, cmap='viridis')\n",
    "plt.colorbar()\n",
    "plt.show()"
   ]
  },
  {
   "cell_type": "code",
   "execution_count": null,
   "metadata": {},
   "outputs": [],
   "source": []
  }
 ],
 "metadata": {
  "kernelspec": {
   "display_name": "painter_env",
   "language": "python",
   "name": "python3"
  },
  "language_info": {
   "codemirror_mode": {
    "name": "ipython",
    "version": 3
   },
   "file_extension": ".py",
   "mimetype": "text/x-python",
   "name": "python",
   "nbconvert_exporter": "python",
   "pygments_lexer": "ipython3",
   "version": "3.10.12"
  }
 },
 "nbformat": 4,
 "nbformat_minor": 2
}
